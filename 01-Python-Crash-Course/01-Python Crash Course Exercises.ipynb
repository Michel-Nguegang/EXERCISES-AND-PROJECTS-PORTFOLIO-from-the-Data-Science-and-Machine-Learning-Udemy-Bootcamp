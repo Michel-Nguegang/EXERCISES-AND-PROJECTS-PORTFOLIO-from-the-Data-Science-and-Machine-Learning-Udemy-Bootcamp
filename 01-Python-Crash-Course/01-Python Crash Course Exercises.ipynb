version https://git-lfs.github.com/spec/v1
oid sha256:ba5ffca126d63b27e8564e68c230b02cb452982a9e59b14cdae525705aa421fd
size 10379
