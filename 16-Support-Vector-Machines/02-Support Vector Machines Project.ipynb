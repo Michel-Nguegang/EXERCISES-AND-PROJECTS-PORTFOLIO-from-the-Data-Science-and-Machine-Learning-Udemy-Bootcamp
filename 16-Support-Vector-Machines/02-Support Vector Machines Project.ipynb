version https://git-lfs.github.com/spec/v1
oid sha256:b1b0d555ca8fc85e401a7cb6b310c4daed46514d7b5e034314d8bffc2dd93ddb
size 5773472
