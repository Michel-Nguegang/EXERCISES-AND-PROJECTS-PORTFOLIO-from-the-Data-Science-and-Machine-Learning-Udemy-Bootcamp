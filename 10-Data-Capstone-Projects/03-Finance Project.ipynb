version https://git-lfs.github.com/spec/v1
oid sha256:bde1e067eaefffb0e883a5e47bc27b8c45c6a40f00a34ff95e8d8c1b49a67461
size 3088160
