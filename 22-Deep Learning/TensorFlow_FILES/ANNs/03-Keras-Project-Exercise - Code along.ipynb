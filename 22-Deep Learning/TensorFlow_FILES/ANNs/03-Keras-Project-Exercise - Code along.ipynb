version https://git-lfs.github.com/spec/v1
oid sha256:d1a94be250b8ecf4918ea11ccea95fe1b3223566d5818a8ad8b5ef80795190fa
size 698311
