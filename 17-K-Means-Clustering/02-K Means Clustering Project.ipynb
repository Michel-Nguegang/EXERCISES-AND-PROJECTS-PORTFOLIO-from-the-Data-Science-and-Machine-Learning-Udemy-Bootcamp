version https://git-lfs.github.com/spec/v1
oid sha256:3f66fc059196c8e53ee416df04c0004af78649022566194184fdabae4d47c8fe
size 287153
